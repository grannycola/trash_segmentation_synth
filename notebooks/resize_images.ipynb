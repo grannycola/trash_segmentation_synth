{
 "cells": [
  {
   "cell_type": "code",
   "execution_count": null,
   "id": "c76a5dbe",
   "metadata": {},
   "outputs": [],
   "source": [
    "from pycocotools.coco import COCO\n",
    "import cv2\n",
    "import numpy as np\n",
    "import json\n",
    "import torch\n",
    "import os\n",
    "import torch.nn.functional as F\n",
    "coco_annotation_file_path = '../data/annotations.json'\n",
    "coco_annotation = COCO(annotation_file=coco_annotation_file_path)      \n",
    "img_ids = coco_annotation.getImgIds()\n",
    "\n",
    "for index in range(len(img_ids)):\n",
    "    \n",
    "    img_id = img_ids[index]\n",
    "    img_info = coco_annotation.loadImgs(img_id)[0]\n",
    "    raw_img_path = '../data/processed/' + img_info[\"file_name\"]\n",
    "    \n",
    "#     path_to_image = 'data/resized/images/' + img_info[\"file_name\"].replace('images/', '').replace('.jpg', '.png')\n",
    "#     if os.path.exists(path_to_image):\n",
    "#         print(path_to_image)\n",
    "#         continue\n",
    "#     else:\n",
    "#         image = cv2.imread(raw_img_path)\n",
    "#         image = cv2.resize(image, (512, 512), interpolation = cv2.INTER_NEAREST)\n",
    "#         cv2.imwrite(path_to_image, image)"
   ]
  }
 ],
 "metadata": {
  "kernelspec": {
   "display_name": "Python 3 (ipykernel)",
   "language": "python",
   "name": "python3"
  },
  "language_info": {
   "codemirror_mode": {
    "name": "ipython",
    "version": 3
   },
   "file_extension": ".py",
   "mimetype": "text/x-python",
   "name": "python",
   "nbconvert_exporter": "python",
   "pygments_lexer": "ipython3",
   "version": "3.9.15"
  }
 },
 "nbformat": 4,
 "nbformat_minor": 5
}
