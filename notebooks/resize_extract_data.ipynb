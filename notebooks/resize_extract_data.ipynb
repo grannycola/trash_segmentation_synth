{
 "cells": [
  {
   "cell_type": "code",
   "execution_count": 2,
   "id": "7f1c4cdd",
   "metadata": {},
   "outputs": [
    {
     "name": "stdout",
     "output_type": "stream",
     "text": [
      "loading annotations into memory...\n",
      "Done (t=0.13s)\n",
      "creating index...\n",
      "index created!\n",
      "1499\r"
     ]
    }
   ],
   "source": [
    "from pycocotools.coco import COCO\n",
    "import cv2\n",
    "import numpy as np\n",
    "import json\n",
    "import torch\n",
    "import os\n",
    "import torch.nn.functional as F\n",
    "\n",
    "device = torch.device(\"cuda\" if torch.cuda.is_available() else \"cpu\")\n",
    "\n",
    "def array_to_gpu(array):\n",
    "    tensor = torch.from_numpy(array).float().to(device)\n",
    "    return tensor\n",
    "\n",
    "\n",
    "def getSupercategory(category_id):\n",
    "    f = open(coco_annotation_file_path)\n",
    "    cat_json_file = json.load(f)\n",
    "\n",
    "    for category in cat_json_file['categories']:\n",
    "        if category_id == category['id']:\n",
    "            f = open('../data/supercategories_top5_large_classes.json')\n",
    "            supcat_json_file = json.load(f)\n",
    "            return supcat_json_file[category['supercategory']]\n",
    "            \n",
    "coco_annotation_file_path = '../data/annotations.json'\n",
    "coco_annotation = COCO(annotation_file=coco_annotation_file_path)      \n",
    "img_ids = coco_annotation.getImgIds()\n",
    "\n",
    "for index in range(len(img_ids)):\n",
    "    \n",
    "    img_id = img_ids[index]\n",
    "    img_info = coco_annotation.loadImgs(img_id)[0]\n",
    "    mask_filename = img_info[\"file_name\"].replace('images/','').replace('.jpg', '.png').replace('.JPG', '.png')\n",
    "    path_to_mask = '../data/processed/masks_5_classes/' + mask_filename\n",
    "    \n",
    "    if os.path.exists(path_to_mask):\n",
    "        print(index, end='\\r')\n",
    "        pass\n",
    "    else:\n",
    "        print(index, end='\\r')\n",
    "        # Get masks\n",
    "        ann_ids = coco_annotation.getAnnIds(imgIds=[img_id], iscrowd=None)\n",
    "        anns = coco_annotation.loadAnns(ann_ids)\n",
    "        mask = np.zeros((img_info['height'],img_info['width']))\n",
    "        mask = array_to_gpu(mask)\n",
    "        \n",
    "        \n",
    "        # Use supercategories instead classes\n",
    "        for ann in anns:\n",
    "            mask_from_annotation = array_to_gpu(coco_annotation.annToMask(ann))\n",
    "            supercategory_of_cat = getSupercategory(ann['category_id'])\n",
    "            mask = torch.maximum(mask, mask_from_annotation * supercategory_of_cat)\n",
    "\n",
    "        mask = torch.unsqueeze(mask, axis=0)\n",
    "        mask = torch.unsqueeze(mask, axis=0)\n",
    "        mask = F.interpolate(mask, size=(512,512), mode='nearest')\n",
    "        \n",
    "        mask = torch.squeeze(mask, 0)\n",
    "        mask = torch.squeeze(mask, 0)\n",
    "        mask = mask.cpu().numpy()\n",
    "        \n",
    "        if not np.any(mask):\n",
    "            pass\n",
    "        else:\n",
    "            cv2.imwrite(path_to_mask, mask)"
   ]
  },
  {
   "cell_type": "code",
   "execution_count": null,
   "id": "5b45f6f9",
   "metadata": {},
   "outputs": [],
   "source": []
  }
 ],
 "metadata": {
  "kernelspec": {
   "display_name": "Python 3 (ipykernel)",
   "language": "python",
   "name": "python3"
  },
  "language_info": {
   "codemirror_mode": {
    "name": "ipython",
    "version": 3
   },
   "file_extension": ".py",
   "mimetype": "text/x-python",
   "name": "python",
   "nbconvert_exporter": "python",
   "pygments_lexer": "ipython3",
   "version": "3.9.15"
  }
 },
 "nbformat": 4,
 "nbformat_minor": 5
}
