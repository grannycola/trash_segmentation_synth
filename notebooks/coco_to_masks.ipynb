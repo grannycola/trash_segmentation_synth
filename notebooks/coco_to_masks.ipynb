{
 "cells": [
  {
   "cell_type": "code",
   "execution_count": 20,
   "id": "8f8f798e",
   "metadata": {},
   "outputs": [],
   "source": [
    "import numpy as np\n",
    "from PIL import Image\n",
    "from pycocotools.coco import COCO\n",
    "import os"
   ]
  },
  {
   "cell_type": "code",
   "execution_count": 21,
   "id": "e4296978",
   "metadata": {},
   "outputs": [
    {
     "name": "stdout",
     "output_type": "stream",
     "text": [
      "loading annotations into memory...\n",
      "Done (t=0.03s)\n",
      "creating index...\n",
      "index created!\n",
      "images/batch_5_000117.jpg\n",
      "loading annotations into memory...\n",
      "Done (t=0.00s)\n",
      "creating index...\n",
      "index created!\n",
      "images/batch_7_000122.jpg\n"
     ]
    }
   ],
   "source": [
    "for dataset_type in ['train', 'val']:\n",
    "    coco_annotation_file_path = f\"data/annotations_0_{dataset_type}.json\"\n",
    "    coco_annotation = COCO(annotation_file=coco_annotation_file_path)\n",
    "    \n",
    "    \n",
    "    \n",
    "    \n",
    "    img_ids = coco_annotation.getImgIds()\n",
    "    img_id = img_ids[0]\n",
    "    img_info = coco_annotation.loadImgs(img_id)[0]\n",
    "    path_to_image = 'data/' + img_info[\"file_name\"]\n",
    "    \n",
    "    print(img_file_name)\n",
    "#     for i in range(len(img_ids)):\n",
    "#         img_id = img_ids[i]\n",
    "#         if os.path.exists(f\"data/masks/val/{img_id}_mask.png\"):\n",
    "#             continue\n",
    "#         else:\n",
    "#             img_info = coco_annotation.loadImgs([img_id])[0]\n",
    "#             img_file_name = img_info[\"file_name\"]\n",
    "#             im = Image.open('data/' + img_file_name)\n",
    "\n",
    "#             # Get all the annotations for the specified image.\n",
    "#             ann_ids = coco_annotation.getAnnIds(imgIds=[img_id], iscrowd=None)\n",
    "#             anns = coco_annotation.loadAnns(ann_ids)\n",
    "#             anns_img = np.zeros((img_info['height'],img_info['width']))\n",
    "\n",
    "#             for ann in anns:\n",
    "#                 anns_img = np.maximum( anns_img, coco_annotation.annToMask(ann) * ann['category_id'] )\n",
    "\n",
    "#             # save masks\n",
    "#             mask = Image.fromarray(anns_img)\n",
    "#             mask = mask.convert('RGB')\n",
    "#             mask.save(f\"data/masks/val/{img_id}_mask.png\",)\n",
    "#             im.close()"
   ]
  },
  {
   "cell_type": "code",
   "execution_count": null,
   "id": "b8fa86b8",
   "metadata": {},
   "outputs": [],
   "source": []
  }
 ],
 "metadata": {
  "kernelspec": {
   "display_name": "Python 3 (ipykernel)",
   "language": "python",
   "name": "python3"
  },
  "language_info": {
   "codemirror_mode": {
    "name": "ipython",
    "version": 3
   },
   "file_extension": ".py",
   "mimetype": "text/x-python",
   "name": "python",
   "nbconvert_exporter": "python",
   "pygments_lexer": "ipython3",
   "version": "3.9.16"
  }
 },
 "nbformat": 4,
 "nbformat_minor": 5
}
