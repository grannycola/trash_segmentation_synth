{
 "cells": [
  {
   "cell_type": "code",
   "execution_count": null,
   "id": "3af9594d",
   "metadata": {},
   "outputs": [],
   "source": [
    "import torch\n",
    "import detectron2.utils.comm as comm\n",
    "import json\n",
    "\n",
    "from detectron2.engine import DefaultTrainer\n",
    "from detectron2.config import get_cfg\n",
    "from detectron2.data.datasets import register_coco_instances\n",
    "from detectron2.data.datasets import load_coco_json\n",
    "from detectron2.data import MetadataCatalog, DatasetCatalog\n",
    "from detectron2 import model_zoo\n",
    "from detectron2.config import get_cfg\n",
    "from detectron2.engine import DefaultTrainer\n",
    "from detectron2.engine import DefaultPredictor"
   ]
  },
  {
   "cell_type": "code",
   "execution_count": null,
   "id": "b2354a61",
   "metadata": {},
   "outputs": [],
   "source": [
    "register_coco_instances(\"taco_dataset_train\", {}, \n",
    "                        \"data/annotations_0_train.json\", \n",
    "                        \"/home/yaroslav/Документы/trash_segmentation_synth/data/\")\n",
    "\n",
    "register_coco_instances(\"taco_dataset_test\", {}, \n",
    "                        \"annotations_0_test.json\", \n",
    "                        \"/home/yaroslav/Документы/trash_segmentation_synth/data/\")"
   ]
  },
  {
   "cell_type": "code",
   "execution_count": null,
   "id": "143824ef",
   "metadata": {},
   "outputs": [],
   "source": [
    "# load_coco_json(\"data/annotations_0_train.json\", \n",
    "#                                   \"home/yaroslav/Документы/trash_segmentation_synth/data/\", \n",
    "#                                   \"taco_dataset_train\")\n",
    "\n",
    "# load_coco_json(\"data/annotations_0_test.json\", \n",
    "#                                   \"home/yaroslav/Документы/trash_segmentation_synth/data/\", \n",
    "#                                   \"taco_dataset_test\")"
   ]
  },
  {
   "cell_type": "code",
   "execution_count": null,
   "id": "a4597e04",
   "metadata": {},
   "outputs": [],
   "source": [
    "# Создание конфигурации для модели\n",
    "cfg = get_cfg()\n",
    "cfg.MODEL.WEIGHTS = model_zoo.get_checkpoint_url(\"COCO-Detection/retinanet_R_50_FPN_1x.yaml\")\n",
    "cfg.DATASETS.TRAIN = (\"taco_dataset_train\",)\n",
    "cfg.DATASETS.TEST = (\"taco_dataset_test\",)\n",
    "cfg.DATALOADER.NUM_WORKERS = 8\n",
    "cfg.SOLVER.IMS_PER_BATCH = 8\n",
    "cfg.SOLVER.BASE_LR = 0.00025\n",
    "cfg.SOLVER.MAX_ITER = 1000\n",
    "cfg.MODEL.ROI_HEADS.NUM_CLASSES = 2\n",
    "cfg.MODEL.ROI_HEADS.SCORE_THRESH_TEST = 0.5\n",
    "cfg.MODEL.DEVICE = \"cuda\" if torch.cuda.is_available() else \"cpu\"\n",
    "cfg.OUTPUT_DIR = \"output/\""
   ]
  },
  {
   "cell_type": "code",
   "execution_count": null,
   "id": "95d82d8b",
   "metadata": {},
   "outputs": [],
   "source": [
    "def getSupercategory(category_id, coco_annotation_file_path):\n",
    "    f = open(coco_annotation_file_path)\n",
    "    cat_json_file = json.load(f)\n",
    "\n",
    "    for category in cat_json_file['categories']:\n",
    "        if category_id == category['id']:\n",
    "            f = open('data/supercategories_2_classes.json')\n",
    "            supcat_json_file = json.load(f)\n",
    "            return supcat_json_file[category['supercategory']]\n",
    "z = 0\n",
    "for sample in DatasetCatalog.get('taco_dataset_train'):\n",
    "    print(z, end=\"\\r\")\n",
    "    z += 1\n",
    "    for ann in sample['annotations']:\n",
    "        ann['category_id'] = getSupercategory(ann['category_id'], 'data/annotations_0_train.json')"
   ]
  },
  {
   "cell_type": "code",
   "execution_count": null,
   "id": "814ed5fc",
   "metadata": {},
   "outputs": [],
   "source": [
    "DatasetCatalog.get('taco_dataset_train')"
   ]
  },
  {
   "cell_type": "code",
   "execution_count": null,
   "id": "a0cd9774",
   "metadata": {},
   "outputs": [],
   "source": [
    "for sample in DatasetCatalog.get('taco_dataset_test'):\n",
    "    for ann in sample['annotations']:\n",
    "        ann['category_id'] = getSupercategory(ann['category_id'], 'data/annotations_0_test.json')"
   ]
  },
  {
   "cell_type": "code",
   "execution_count": null,
   "id": "a939acb0",
   "metadata": {},
   "outputs": [],
   "source": [
    "# Создание трейнера и обучение модели\n",
    "trainer = DefaultTrainer(cfg)\n",
    "trainer.resume_or_load(resume=False)\n",
    "trainer.train()\n",
    "# Загрузка обученной модели\n",
    "model = DefaultPredictor(cfg).model\n",
    "# Сохранение обученной модели\n",
    "model.save(\"output/model_weights.pth\")"
   ]
  },
  {
   "cell_type": "code",
   "execution_count": null,
   "id": "3d51aabb",
   "metadata": {},
   "outputs": [],
   "source": []
  }
 ],
 "metadata": {
  "kernelspec": {
   "display_name": "Python 3 (ipykernel)",
   "language": "python",
   "name": "python3"
  },
  "language_info": {
   "codemirror_mode": {
    "name": "ipython",
    "version": 3
   },
   "file_extension": ".py",
   "mimetype": "text/x-python",
   "name": "python",
   "nbconvert_exporter": "python",
   "pygments_lexer": "ipython3",
   "version": "3.9.13"
  }
 },
 "nbformat": 4,
 "nbformat_minor": 5
}
