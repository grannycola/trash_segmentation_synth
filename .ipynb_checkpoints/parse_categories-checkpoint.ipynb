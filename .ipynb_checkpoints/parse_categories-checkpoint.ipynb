{
 "cells": [
  {
   "cell_type": "code",
   "execution_count": 11,
   "id": "f06258e9",
   "metadata": {},
   "outputs": [],
   "source": [
    "import json\n",
    "\n",
    "f = open('data/annotations_0_val.json')\n",
    "json_file = json.load(f)\n",
    "super_categories_list = []\n",
    "for category in json_file['categories']:\n",
    "    super_categories_list.append(category['supercategory'])\n",
    "\n",
    "    \n",
    "z=1\n",
    "supcat_dict = {}\n",
    "for supercategory in set(super_categories_list):\n",
    "    supcat_dict[supercategory] = z\n",
    "    z+=1\n",
    "    \n",
    "# Serializing json  \n",
    "with open(\"data/supercategories.json\", \"w\") as outfile:\n",
    "    json.dump(supcat_dict, outfile)"
   ]
  },
  {
   "cell_type": "code",
   "execution_count": null,
   "id": "9dd8e3a8",
   "metadata": {},
   "outputs": [],
   "source": []
  }
 ],
 "metadata": {
  "kernelspec": {
   "display_name": "Python 3 (ipykernel)",
   "language": "python",
   "name": "python3"
  },
  "language_info": {
   "codemirror_mode": {
    "name": "ipython",
    "version": 3
   },
   "file_extension": ".py",
   "mimetype": "text/x-python",
   "name": "python",
   "nbconvert_exporter": "python",
   "pygments_lexer": "ipython3",
   "version": "3.9.16"
  }
 },
 "nbformat": 4,
 "nbformat_minor": 5
}
