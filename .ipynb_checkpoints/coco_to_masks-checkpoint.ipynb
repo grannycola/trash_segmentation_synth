{
 "cells": [
  {
   "cell_type": "code",
   "execution_count": 13,
   "id": "8f8f798e",
   "metadata": {},
   "outputs": [],
   "source": [
    "import numpy as np\n",
    "from PIL import Image\n",
    "import requests\n",
    "from pycocotools.coco import COCO"
   ]
  },
  {
   "cell_type": "code",
   "execution_count": null,
   "id": "e4296978",
   "metadata": {},
   "outputs": [],
   "source": [
    "for dataset_type in ['train', 'val']:\n",
    "    coco_annotation_file_path = f\"data/annotations_0_{dataset_type}.json\"\n",
    "    coco_annotation = COCO(annotation_file=coco_annotation_file_path)\n",
    "\n",
    "    img_ids = coco_annotation.getImgIds()\n",
    "\n",
    "    for i in range(len(img_ids)):\n",
    "        img_id = img_ids[i]\n",
    "\n",
    "        img_info = coco_annotation.loadImgs([img_id])[0]\n",
    "        img_file_name = img_info[\"file_name\"]\n",
    "        im = Image.open('data/' + img_file_name)\n",
    "        \n",
    "        # Get all the annotations for the specified image.\n",
    "        ann_ids = coco_annotation.getAnnIds(imgIds=[img_id], iscrowd=None)\n",
    "        anns = coco_annotation.loadAnns(ann_ids)\n",
    "        anns_img = np.zeros((img_info['height'],img_info['width']))\n",
    "        \n",
    "        for ann in anns:\n",
    "            anns_img = np.maximum( anns_img, coco_annotation.annToMask(ann) * ann['category_id'] )\n",
    "\n",
    "        # save masks\n",
    "        mask = Image.fromarray(anns_img)\n",
    "        mask = mask.convert('RGB')\n",
    "        mask.save(f\"data/masks/test/{img_id}_mask.png\",)\n",
    "        im.close()"
   ]
  }
 ],
 "metadata": {
  "kernelspec": {
   "display_name": "Python 3 (ipykernel)",
   "language": "python",
   "name": "python3"
  },
  "language_info": {
   "codemirror_mode": {
    "name": "ipython",
    "version": 3
   },
   "file_extension": ".py",
   "mimetype": "text/x-python",
   "name": "python",
   "nbconvert_exporter": "python",
   "pygments_lexer": "ipython3",
   "version": "3.9.16"
  }
 },
 "nbformat": 4,
 "nbformat_minor": 5
}
