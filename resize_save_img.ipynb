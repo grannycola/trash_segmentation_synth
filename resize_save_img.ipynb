{
 "cells": [
  {
   "cell_type": "code",
   "execution_count": 17,
   "id": "7f1c4cdd",
   "metadata": {},
   "outputs": [
    {
     "name": "stdout",
     "output_type": "stream",
     "text": [
      "loading annotations into memory...\n",
      "Done (t=0.00s)\n",
      "creating index...\n",
      "index created!\n",
      "149\r"
     ]
    }
   ],
   "source": [
    "from pycocotools.coco import COCO\n",
    "import cv2\n",
    "import numpy as np\n",
    "import json\n",
    "\n",
    "def getSupercategory(category_id):\n",
    "    f = open(coco_annotation_file_path)\n",
    "    cat_json_file = json.load(f)\n",
    "\n",
    "    for category in cat_json_file['categories']:\n",
    "        if category_id == category['id']:\n",
    "            f = open('data/supercategories.json')\n",
    "            supcat_json_file = json.load(f)\n",
    "            return supcat_json_file[category['supercategory']]\n",
    "            \n",
    "coco_annotation_file_path = 'data/annotations_0_val.json'\n",
    "coco_annotation = COCO(annotation_file=coco_annotation_file_path)      \n",
    "img_ids = coco_annotation.getImgIds()\n",
    "\n",
    "for index in range(len(img_ids)):\n",
    "    print(index, end='\\r')\n",
    "    img_id = img_ids[index]\n",
    "    img_info = coco_annotation.loadImgs(img_id)[0]\n",
    "\n",
    "    img_path = 'data/' + img_info[\"file_name\"]\n",
    "    image = cv2.imread(img_path)\n",
    "    image = cv2.cvtColor(image, cv2.COLOR_BGR2RGB)\n",
    "    image = cv2.resize(image, (512, 512), interpolation = cv2.INTER_NEAREST)\n",
    "    \n",
    "    \n",
    "    # Get masks\n",
    "    ann_ids = coco_annotation.getAnnIds(imgIds=[img_id], iscrowd=None)\n",
    "    anns = coco_annotation.loadAnns(ann_ids)\n",
    "    mask = np.zeros((img_info['height'],img_info['width']))\n",
    "\n",
    "    # Use supercategories instead classes\n",
    "    for ann in anns:\n",
    "        mask = np.maximum(mask, coco_annotation.annToMask(ann) * getSupercategory(ann['category_id']))\n",
    "    \n",
    "    mask = cv2.resize(mask, (512, 512), interpolation = cv2.INTER_NEAREST)\n",
    "    \n",
    "    mask_filename = img_info[\"file_name\"].replace('images/','').replace('.jpg', '.png')\n",
    "    path_to_image = 'data/images/resized/' + img_info[\"file_name\"]\n",
    "    path_to_mask = 'data/images/resized/masks/' + mask_filename\n",
    "\n",
    "    cv2.imwrite(path_to_image, image)\n",
    "    cv2.imwrite(path_to_mask, mask)\n",
    "    cv2.waitKey(0)"
   ]
  },
  {
   "cell_type": "code",
   "execution_count": null,
   "id": "5b45f6f9",
   "metadata": {},
   "outputs": [],
   "source": []
  }
 ],
 "metadata": {
  "kernelspec": {
   "display_name": "Python 3 (ipykernel)",
   "language": "python",
   "name": "python3"
  },
  "language_info": {
   "codemirror_mode": {
    "name": "ipython",
    "version": 3
   },
   "file_extension": ".py",
   "mimetype": "text/x-python",
   "name": "python",
   "nbconvert_exporter": "python",
   "pygments_lexer": "ipython3",
   "version": "3.9.16"
  }
 },
 "nbformat": 4,
 "nbformat_minor": 5
}
